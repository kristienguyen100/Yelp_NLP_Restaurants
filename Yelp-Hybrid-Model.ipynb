{
 "cells": [
  {
   "cell_type": "code",
   "execution_count": 1,
   "metadata": {},
   "outputs": [
    {
     "name": "stderr",
     "output_type": "stream",
     "text": [
      "Using TensorFlow backend.\n"
     ]
    }
   ],
   "source": [
    "import pandas as pd\n",
    "import numpy as np\n",
    "import matplotlib.pyplot as plt\n",
    "import seaborn as sns\n",
    "import nltk\n",
    "# nltk.download('wordnet')\n",
    "from textblob import Word\n",
    "from nltk.stem import WordNetLemmatizer \n",
    "import glob\n",
    "import pandas as pd\n",
    "import codecs\n",
    "import gensim\n",
    "from gensim.models import Word2Vec\n",
    "from gensim.utils import simple_preprocess\n",
    "from gensim.models.keyedvectors import KeyedVectors\n",
    "\n",
    "from keras.layers import Embedding\n",
    "from keras.layers import Dense, Input\n",
    "from keras.layers import Conv1D, MaxPooling1D, Embedding\n",
    "from keras.models import Model\n",
    "from keras.layers import Dense, Activation, Multiply, Add, LSTM, LeakyReLU\n",
    "from keras.layers import Input, Dense, Dropout\n",
    "from keras.optimizers import Adam\n",
    "from keras.regularizers import l2\n",
    "from kutilities.layers import AttentionWithContext\n",
    "from keras.callbacks import EarlyStopping, ModelCheckpoint\n",
    "\n",
    "from sklearn.metrics import accuracy_score, recall_score, f1_score, precision_score"
   ]
  },
  {
   "cell_type": "code",
   "execution_count": null,
   "metadata": {},
   "outputs": [],
   "source": []
  },
  {
   "cell_type": "code",
   "execution_count": 2,
   "metadata": {},
   "outputs": [
    {
     "data": {
      "text/html": [
       "<div>\n",
       "<style scoped>\n",
       "    .dataframe tbody tr th:only-of-type {\n",
       "        vertical-align: middle;\n",
       "    }\n",
       "\n",
       "    .dataframe tbody tr th {\n",
       "        vertical-align: top;\n",
       "    }\n",
       "\n",
       "    .dataframe thead th {\n",
       "        text-align: right;\n",
       "    }\n",
       "</style>\n",
       "<table border=\"1\" class=\"dataframe\">\n",
       "  <thead>\n",
       "    <tr style=\"text-align: right;\">\n",
       "      <th></th>\n",
       "      <th>business_id</th>\n",
       "      <th>name</th>\n",
       "      <th>city</th>\n",
       "      <th>state</th>\n",
       "      <th>stars</th>\n",
       "      <th>review_count</th>\n",
       "      <th>categories</th>\n",
       "      <th>review_id</th>\n",
       "      <th>review_stars</th>\n",
       "      <th>useful</th>\n",
       "      <th>funny</th>\n",
       "      <th>cool</th>\n",
       "      <th>text</th>\n",
       "      <th>date</th>\n",
       "      <th>polarity</th>\n",
       "    </tr>\n",
       "  </thead>\n",
       "  <tbody>\n",
       "    <tr>\n",
       "      <th>0</th>\n",
       "      <td>bPBZEDuHbE-I7bxUWIYMhQ</td>\n",
       "      <td>Oishii Sushi</td>\n",
       "      <td>Calgary</td>\n",
       "      <td>AB</td>\n",
       "      <td>3.0</td>\n",
       "      <td>91</td>\n",
       "      <td>Japanese, Restaurants, Sushi Bars</td>\n",
       "      <td>rFfxQEA9wCmRYyqDSv1ecQ</td>\n",
       "      <td>4</td>\n",
       "      <td>0</td>\n",
       "      <td>1</td>\n",
       "      <td>0</td>\n",
       "      <td>Went here for all you can eat sushi dinner! Bo...</td>\n",
       "      <td>2017-11-11 19:16:19</td>\n",
       "      <td>0</td>\n",
       "    </tr>\n",
       "    <tr>\n",
       "      <th>1</th>\n",
       "      <td>bPBZEDuHbE-I7bxUWIYMhQ</td>\n",
       "      <td>Oishii Sushi</td>\n",
       "      <td>Calgary</td>\n",
       "      <td>AB</td>\n",
       "      <td>3.0</td>\n",
       "      <td>91</td>\n",
       "      <td>Japanese, Restaurants, Sushi Bars</td>\n",
       "      <td>MccdpC7TvFCTKO5Pdx37PA</td>\n",
       "      <td>1</td>\n",
       "      <td>1</td>\n",
       "      <td>1</td>\n",
       "      <td>0</td>\n",
       "      <td>The service was okay when it was present. The ...</td>\n",
       "      <td>2016-02-27 08:03:55</td>\n",
       "      <td>0</td>\n",
       "    </tr>\n",
       "    <tr>\n",
       "      <th>2</th>\n",
       "      <td>bPBZEDuHbE-I7bxUWIYMhQ</td>\n",
       "      <td>Oishii Sushi</td>\n",
       "      <td>Calgary</td>\n",
       "      <td>AB</td>\n",
       "      <td>3.0</td>\n",
       "      <td>91</td>\n",
       "      <td>Japanese, Restaurants, Sushi Bars</td>\n",
       "      <td>OS_uA1Dm7iV4NLGcgtZ9qw</td>\n",
       "      <td>5</td>\n",
       "      <td>0</td>\n",
       "      <td>0</td>\n",
       "      <td>1</td>\n",
       "      <td>Went here on the weekend for lunch and food/se...</td>\n",
       "      <td>2015-11-09 23:03:17</td>\n",
       "      <td>1</td>\n",
       "    </tr>\n",
       "    <tr>\n",
       "      <th>3</th>\n",
       "      <td>bPBZEDuHbE-I7bxUWIYMhQ</td>\n",
       "      <td>Oishii Sushi</td>\n",
       "      <td>Calgary</td>\n",
       "      <td>AB</td>\n",
       "      <td>3.0</td>\n",
       "      <td>91</td>\n",
       "      <td>Japanese, Restaurants, Sushi Bars</td>\n",
       "      <td>q37oYWTdZmXC8Z26nTR87Q</td>\n",
       "      <td>5</td>\n",
       "      <td>0</td>\n",
       "      <td>0</td>\n",
       "      <td>0</td>\n",
       "      <td>I've eaten here twice now and I'm really impre...</td>\n",
       "      <td>2017-07-12 16:52:23</td>\n",
       "      <td>1</td>\n",
       "    </tr>\n",
       "    <tr>\n",
       "      <th>4</th>\n",
       "      <td>bPBZEDuHbE-I7bxUWIYMhQ</td>\n",
       "      <td>Oishii Sushi</td>\n",
       "      <td>Calgary</td>\n",
       "      <td>AB</td>\n",
       "      <td>3.0</td>\n",
       "      <td>91</td>\n",
       "      <td>Japanese, Restaurants, Sushi Bars</td>\n",
       "      <td>5w3lP3O8ZUO9kOTfQFi8pQ</td>\n",
       "      <td>1</td>\n",
       "      <td>1</td>\n",
       "      <td>1</td>\n",
       "      <td>1</td>\n",
       "      <td>Not good for groups.\\n We came here tonight fo...</td>\n",
       "      <td>2016-04-04 05:57:54</td>\n",
       "      <td>0</td>\n",
       "    </tr>\n",
       "  </tbody>\n",
       "</table>\n",
       "</div>"
      ],
      "text/plain": [
       "              business_id          name     city state  stars  review_count  \\\n",
       "0  bPBZEDuHbE-I7bxUWIYMhQ  Oishii Sushi  Calgary    AB    3.0            91   \n",
       "1  bPBZEDuHbE-I7bxUWIYMhQ  Oishii Sushi  Calgary    AB    3.0            91   \n",
       "2  bPBZEDuHbE-I7bxUWIYMhQ  Oishii Sushi  Calgary    AB    3.0            91   \n",
       "3  bPBZEDuHbE-I7bxUWIYMhQ  Oishii Sushi  Calgary    AB    3.0            91   \n",
       "4  bPBZEDuHbE-I7bxUWIYMhQ  Oishii Sushi  Calgary    AB    3.0            91   \n",
       "\n",
       "                          categories               review_id  review_stars  \\\n",
       "0  Japanese, Restaurants, Sushi Bars  rFfxQEA9wCmRYyqDSv1ecQ             4   \n",
       "1  Japanese, Restaurants, Sushi Bars  MccdpC7TvFCTKO5Pdx37PA             1   \n",
       "2  Japanese, Restaurants, Sushi Bars  OS_uA1Dm7iV4NLGcgtZ9qw             5   \n",
       "3  Japanese, Restaurants, Sushi Bars  q37oYWTdZmXC8Z26nTR87Q             5   \n",
       "4  Japanese, Restaurants, Sushi Bars  5w3lP3O8ZUO9kOTfQFi8pQ             1   \n",
       "\n",
       "   useful  funny  cool                                               text  \\\n",
       "0       0      1     0  Went here for all you can eat sushi dinner! Bo...   \n",
       "1       1      1     0  The service was okay when it was present. The ...   \n",
       "2       0      0     1  Went here on the weekend for lunch and food/se...   \n",
       "3       0      0     0  I've eaten here twice now and I'm really impre...   \n",
       "4       1      1     1  Not good for groups.\\n We came here tonight fo...   \n",
       "\n",
       "                  date  polarity  \n",
       "0  2017-11-11 19:16:19         0  \n",
       "1  2016-02-27 08:03:55         0  \n",
       "2  2015-11-09 23:03:17         1  \n",
       "3  2017-07-12 16:52:23         1  \n",
       "4  2016-04-04 05:57:54         0  "
      ]
     },
     "execution_count": 2,
     "metadata": {},
     "output_type": "execute_result"
    }
   ],
   "source": [
    "label_data = pd.read_csv('yelp_review_with_labels.csv')\n",
    "label_data.head(5)\n"
   ]
  },
  {
   "cell_type": "markdown",
   "metadata": {},
   "source": [
    "#### Data Cleaning"
   ]
  },
  {
   "cell_type": "code",
   "execution_count": 3,
   "metadata": {},
   "outputs": [
    {
     "data": {
      "text/plain": [
       "\"went here for all you can eat sushi dinner! bottomline: best all you can eat sushi in calgary! it costs $26 per person for sushi and sashimi and $32 for the deluxe menu which includes oysters and tataki. \\n\\nwe went a little overboard with ordering rolls (to the point that the waiter asked if we were sure we can finish haha) and then regretted it shortly after! there is a charge for unfinished food so it was a little stressful haha \\n\\nwe ordered the mango dragon roll (prawn tempura and avacado with mango), philadelphia roll, spicy salmon roll, beef udon, miso soup, salmon and tuna sashimi, salmon rose and prawn tempura. out of these my favourites were the spicy salmon and the mango dragon roll. i didn't love the tempura personally because it was a bit soggy. didn't have room for dessert after all this food so can't comment on that haha\""
      ]
     },
     "execution_count": 3,
     "metadata": {},
     "output_type": "execute_result"
    }
   ],
   "source": [
    "#lowercase conversion  \n",
    "label_data['text'] = [i.lower() for i in label_data['text']]\n",
    "label_data['text'][0]"
   ]
  },
  {
   "cell_type": "code",
   "execution_count": 4,
   "metadata": {},
   "outputs": [
    {
     "name": "stderr",
     "output_type": "stream",
     "text": [
      "[nltk_data] Downloading package stopwords to\n",
      "[nltk_data]     /Users/f6rzpfu/nltk_data...\n",
      "[nltk_data]   Package stopwords is already up-to-date!\n"
     ]
    },
    {
     "data": {
      "text/plain": [
       "\"went eat sushi dinner! bottomline: best eat sushi calgary! costs $26 per person sushi sashimi $32 deluxe menu includes oysters tataki. went little overboard ordering rolls (to point waiter asked sure finish haha) regretted shortly after! charge unfinished food little stressful haha ordered mango dragon roll (prawn tempura avacado mango), philadelphia roll, spicy salmon roll, beef udon, miso soup, salmon tuna sashimi, salmon rose prawn tempura. favourites spicy salmon mango dragon roll. love tempura personally bit soggy. room dessert food can't comment haha\""
      ]
     },
     "execution_count": 4,
     "metadata": {},
     "output_type": "execute_result"
    }
   ],
   "source": [
    "#stopword removal \n",
    "from nltk.corpus import stopwords\n",
    "nltk.download('stopwords')\n",
    "\n",
    "Stopwords = set(stopwords.words('english'))\n",
    "\n",
    "label_data[\"text\"] = label_data[\"text\"].apply(lambda text: \" \".join([word for word in str(text).split() if word not in Stopwords]))\n",
    "label_data['text'][0]"
   ]
  },
  {
   "cell_type": "code",
   "execution_count": 5,
   "metadata": {},
   "outputs": [],
   "source": [
    "#punctuation removal + number removal + space/blank removal \n",
    "import string\n",
    "import re\n",
    "def clean_text(text):\n",
    "    # remove numbers\n",
    "    text_nonum = re.sub(r'\\d+', '', text)\n",
    "    # remove punctuations and convert characters to lower case\n",
    "    text_nopunct = \"\".join([char for char in text_nonum if char not in string.punctuation]) \n",
    "    # substitute multiple whitespace with single whitespace\n",
    "    # remove leading and trailing whitespaces\n",
    "    text_no_doublespace = re.sub('\\s+', ' ', text_nopunct).strip()\n",
    "    return text_no_doublespace\n",
    "\n",
    "label_data[\"text\"]=label_data['text'].map(lambda text: clean_text(text))"
   ]
  },
  {
   "cell_type": "code",
   "execution_count": 6,
   "metadata": {},
   "outputs": [],
   "source": [
    "#lemmatization\n",
    "lemmatizer = WordNetLemmatizer()\n",
    "\n",
    "# Lemmatize final review format\n",
    "label_data['lemmatized_text'] = label_data['text'].apply(lambda x: \" \".join([Word(word).lemmatize() for word in x.split()]))"
   ]
  },
  {
   "cell_type": "code",
   "execution_count": 8,
   "metadata": {},
   "outputs": [],
   "source": [
    "#stemming\n",
    "from nltk.stem.porter import PorterStemmer\n",
    "\n",
    "stemmer = PorterStemmer()\n",
    "\n",
    "label_data[\"stemmed_text\"] = label_data[\"lemmatized_text\"].apply(lambda text: \" \".join([stemmer.stem(word) for word in text.split()]))"
   ]
  },
  {
   "cell_type": "code",
   "execution_count": 9,
   "metadata": {},
   "outputs": [],
   "source": [
    "X=label_data[\"stemmed_text\"]\n",
    "y=label_data[\"polarity\"]"
   ]
  },
  {
   "cell_type": "code",
   "execution_count": 10,
   "metadata": {},
   "outputs": [],
   "source": [
    "from sklearn.model_selection import train_test_split\n",
    "X_train1,X_test1,y_train1,y_test1=train_test_split(X,y,test_size=0.3,random_state=1)"
   ]
  },
  {
   "cell_type": "code",
   "execution_count": 11,
   "metadata": {},
   "outputs": [
    {
     "data": {
      "text/plain": [
       "(array([0, 1]), array([3959, 7779]))"
      ]
     },
     "execution_count": 11,
     "metadata": {},
     "output_type": "execute_result"
    }
   ],
   "source": [
    "np.unique(y_train1, return_counts = True)"
   ]
  },
  {
   "cell_type": "code",
   "execution_count": 12,
   "metadata": {},
   "outputs": [
    {
     "data": {
      "text/plain": [
       "(array([0, 1]), array([1728, 3303]))"
      ]
     },
     "execution_count": 12,
     "metadata": {},
     "output_type": "execute_result"
    }
   ],
   "source": [
    "np.unique(y_test1, return_counts = True)"
   ]
  },
  {
   "cell_type": "code",
   "execution_count": null,
   "metadata": {},
   "outputs": [],
   "source": []
  },
  {
   "cell_type": "markdown",
   "metadata": {},
   "source": [
    "#### Tokenizer + Pad Sequence"
   ]
  },
  {
   "cell_type": "code",
   "execution_count": 13,
   "metadata": {},
   "outputs": [],
   "source": [
    "from keras.preprocessing.text import Tokenizer\n",
    "# Number of words to consider as features\n",
    "# restrict the yelp reviews to the top 10000 most common words\n",
    "max_features=20000\n",
    "# Tokenize the sentences\n",
    "tokenizer = Tokenizer(num_words=max_features)\n",
    "tokenizer.fit_on_texts(list(X_train1)+list(X_test1))\n",
    "word_index = tokenizer.word_index\n",
    "X_train = tokenizer.texts_to_sequences(X_train1)\n",
    "X_test = tokenizer.texts_to_sequences(X_test1)"
   ]
  },
  {
   "cell_type": "code",
   "execution_count": 14,
   "metadata": {},
   "outputs": [],
   "source": [
    "from keras.preprocessing.sequence import pad_sequences\n",
    "from keras.utils import to_categorical\n",
    "# cut reviews after 200 words\n",
    "maxlen=300\n",
    "X_train=pad_sequences(X_train,maxlen=maxlen) #training data contains a list of list of numbers \n",
    "X_test=pad_sequences(X_test,maxlen=maxlen) #each list has the same numbers \n",
    "\n",
    "y_train = to_categorical(y_train1)\n",
    "y_test = to_categorical(y_test1)"
   ]
  },
  {
   "cell_type": "code",
   "execution_count": 15,
   "metadata": {},
   "outputs": [
    {
     "name": "stdout",
     "output_type": "stream",
     "text": [
      "X_train (11738, 300)\n",
      "y_train (11738, 2)\n"
     ]
    }
   ],
   "source": [
    "print(\"X_train\",X_train.shape)\n",
    "print(\"y_train\",y_train.shape)"
   ]
  },
  {
   "cell_type": "code",
   "execution_count": 16,
   "metadata": {},
   "outputs": [
    {
     "name": "stdout",
     "output_type": "stream",
     "text": [
      "X_test (5031, 300)\n",
      "y_test (5031, 2)\n"
     ]
    }
   ],
   "source": [
    "print(\"X_test\",X_test.shape)\n",
    "print(\"y_test\",y_test.shape)"
   ]
  },
  {
   "cell_type": "markdown",
   "metadata": {},
   "source": [
    "#### Custom Words Embedded Vectors"
   ]
  },
  {
   "cell_type": "code",
   "execution_count": 17,
   "metadata": {},
   "outputs": [],
   "source": [
    "WORD_NUM = 20000\n",
    "MAX_SEQUENCE_LENGTH = 300"
   ]
  },
  {
   "cell_type": "code",
   "execution_count": 18,
   "metadata": {},
   "outputs": [
    {
     "name": "stderr",
     "output_type": "stream",
     "text": [
      "/Library/Frameworks/Python.framework/Versions/3.7/lib/python3.7/site-packages/ipykernel_launcher.py:11: DeprecationWarning: Call to deprecated `iter` (Attribute will be removed in 4.0.0, use self.epochs instead).\n",
      "  # This is added back by InteractiveShellApp.init_path()\n"
     ]
    },
    {
     "data": {
      "text/plain": [
       "(3078029, 17812205)"
      ]
     },
     "execution_count": 18,
     "metadata": {},
     "output_type": "execute_result"
    }
   ],
   "source": [
    "#create word vector model from our training data\n",
    "wvmodel = Word2Vec(size=300,\n",
    "                    min_count=5,\n",
    "                    workers=3)\n",
    "\n",
    "\n",
    "wvmodel.build_vocab(X_train1)\n",
    "\n",
    "\n",
    "wvmodel.train(X_train1,\n",
    "              total_examples = wvmodel.corpus_count,\n",
    "              epochs = wvmodel.iter)"
   ]
  },
  {
   "cell_type": "code",
   "execution_count": 19,
   "metadata": {},
   "outputs": [
    {
     "name": "stderr",
     "output_type": "stream",
     "text": [
      "/Library/Frameworks/Python.framework/Versions/3.7/lib/python3.7/site-packages/ipykernel_launcher.py:8: DeprecationWarning: Call to deprecated `__getitem__` (Method will be removed in 4.0.0, use self.wv.__getitem__() instead).\n",
      "  \n"
     ]
    }
   ],
   "source": [
    "EMBEDDING_DIM = 300 \n",
    "vocab = min((len(word_index), WORD_NUM))\n",
    "embed_matrix = np.zeros((vocab, EMBEDDING_DIM))\n",
    "for word, i in word_index.items():\n",
    "    if i >= WORD_NUM:\n",
    "        continue\n",
    "    try:\n",
    "        word_vec = wvmodel[word]\n",
    "        embed_matrix[i] = word_vec\n",
    "    except KeyError:\n",
    "        embed_matrix[i] = np.random.normal(0, np.sqrt(0.25), EMBEDDING_DIM)"
   ]
  },
  {
   "cell_type": "code",
   "execution_count": 20,
   "metadata": {},
   "outputs": [
    {
     "data": {
      "text/plain": [
       "(20000, 300)"
      ]
     },
     "execution_count": 20,
     "metadata": {},
     "output_type": "execute_result"
    }
   ],
   "source": [
    "embed_matrix.shape"
   ]
  },
  {
   "cell_type": "code",
   "execution_count": 38,
   "metadata": {},
   "outputs": [],
   "source": [
    "#hyperparameters initialize\n",
    "LAB_NUMBER = 2 # number of labels, 20 in this case\n",
    "WREG = 0.0001 # embedding regularization\n",
    "CREG = 0.00001 # CNN regularization\n",
    "RREG = 0.00001 # LSTM regularization\n",
    "DREG = 0.00001 # Fully connected regularization\n",
    "WDROP_RATE = 0.50 # embedding dropout\n",
    "CDROP_RATE = 0.3 # CNN dropout\n",
    "RDROP_RATE = 0.3 # LSTM dropout\n",
    "DDROP_RATE = 0.3 # fully connected dropout\n",
    "CHIDDEN_SIZE = 32 # CNN size\n",
    "RHIDDEN_SIZE = 64 # LSTM size \n",
    "DHIDDEN_SIZE = 128 # fully connected size\n",
    "SEQ_LEN = MAX_SEQUENCE_LENGTH\n",
    "EPOCH = 100\n",
    "BATCH_SIZE = 64"
   ]
  },
  {
   "cell_type": "markdown",
   "metadata": {},
   "source": [
    "#### Model Design"
   ]
  },
  {
   "cell_type": "code",
   "execution_count": 39,
   "metadata": {},
   "outputs": [
    {
     "name": "stdout",
     "output_type": "stream",
     "text": [
      "Model: \"model_4\"\n",
      "_________________________________________________________________\n",
      "Layer (type)                 Output Shape              Param #   \n",
      "=================================================================\n",
      "input_4 (InputLayer)         (None, 300)               0         \n",
      "_________________________________________________________________\n",
      "embedding_4 (Embedding)      (None, 300, 300)          6000000   \n",
      "_________________________________________________________________\n",
      "dropout_16 (Dropout)         (None, 300, 300)          0         \n",
      "_________________________________________________________________\n",
      "conv1d_7 (Conv1D)            (None, 300, 32)           28832     \n",
      "_________________________________________________________________\n",
      "activation_7 (Activation)    (None, 300, 32)           0         \n",
      "_________________________________________________________________\n",
      "max_pooling1d_7 (MaxPooling1 (None, 60, 32)            0         \n",
      "_________________________________________________________________\n",
      "dropout_17 (Dropout)         (None, 60, 32)            0         \n",
      "_________________________________________________________________\n",
      "conv1d_8 (Conv1D)            (None, 56, 32)            5152      \n",
      "_________________________________________________________________\n",
      "activation_8 (Activation)    (None, 56, 32)            0         \n",
      "_________________________________________________________________\n",
      "max_pooling1d_8 (MaxPooling1 (None, 11, 32)            0         \n",
      "_________________________________________________________________\n",
      "dropout_18 (Dropout)         (None, 11, 32)            0         \n",
      "_________________________________________________________________\n",
      "lstm_4 (LSTM)                (None, 64)                24832     \n",
      "_________________________________________________________________\n",
      "dropout_19 (Dropout)         (None, 64)                0         \n",
      "_________________________________________________________________\n",
      "dense_7 (Dense)              (None, 64)                4160      \n",
      "_________________________________________________________________\n",
      "leaky_re_lu_4 (LeakyReLU)    (None, 64)                0         \n",
      "_________________________________________________________________\n",
      "dropout_20 (Dropout)         (None, 64)                0         \n",
      "_________________________________________________________________\n",
      "dense_8 (Dense)              (None, 2)                 130       \n",
      "=================================================================\n",
      "Total params: 6,063,106\n",
      "Trainable params: 6,063,106\n",
      "Non-trainable params: 0\n",
      "_________________________________________________________________\n"
     ]
    }
   ],
   "source": [
    "#embedding layer from word2vec custom embeddings\n",
    "embed = Embedding(vocab,\n",
    "                  EMBEDDING_DIM,\n",
    "                  weights=[embed_matrix],\n",
    "                  trainable=True, \n",
    "                  embeddings_regularizer=l2(WREG))\n",
    "\n",
    "#input and CNNs\n",
    "inputs = Input(shape=(SEQ_LEN,), dtype='int32')\n",
    "embed_sequence = embed(inputs)\n",
    "\n",
    "embed_sequence = Dropout(WDROP_RATE)(embed_sequence)\n",
    "\n",
    "\n",
    "cnn1 = Conv1D(filters = CHIDDEN_SIZE, \n",
    "              kernel_regularizer=l2(CREG), \n",
    "              kernel_size=(3), \n",
    "              padding= \"same\", \n",
    "              strides=1)(embed_sequence)\n",
    "cnn1 = Activation('relu')(cnn1)\n",
    "cnn1 = MaxPooling1D(5)(cnn1)\n",
    "cnn1 = Dropout(CDROP_RATE)(cnn1)\n",
    "\n",
    "\n",
    "cnn2 = Conv1D(filters = CHIDDEN_SIZE, \n",
    "              kernel_regularizer=l2(CREG), \n",
    "              kernel_size=(5), \n",
    "              padding=\"valid\", \n",
    "              strides=1)(cnn1)\n",
    "\n",
    "cnn2 = Activation('relu')(cnn2)\n",
    "cnn2 = MaxPooling1D(5)(cnn2)\n",
    "cnn2 = Dropout(CDROP_RATE)(cnn2)\n",
    "\n",
    "\n",
    "#LSTM\n",
    "lstm1 = LSTM(RHIDDEN_SIZE, \n",
    "             kernel_regularizer=l2(RREG))(cnn2)\n",
    "# lstm1 = AttentionWithContext()(lstm1)\n",
    "lstm1 = Dropout(RDROP_RATE)(lstm1)\n",
    "\n",
    "#Feedforward and softmax\n",
    "out = Dense(DHIDDEN_SIZE,\n",
    "            kernel_regularizer=l2(DREG))(lstm1)\n",
    "out = LeakyReLU()(out)\n",
    "out = Dropout(DDROP_RATE)(out)\n",
    "\n",
    "\n",
    "prediction = Dense(LAB_NUMBER, \n",
    "                   activation = 'softmax')(out)\n",
    "\n",
    "model = Model(inputs, prediction)\n",
    "model.summary()"
   ]
  },
  {
   "cell_type": "code",
   "execution_count": null,
   "metadata": {},
   "outputs": [],
   "source": []
  },
  {
   "cell_type": "code",
   "execution_count": 40,
   "metadata": {},
   "outputs": [
    {
     "name": "stderr",
     "output_type": "stream",
     "text": [
      "/Library/Frameworks/Python.framework/Versions/3.7/lib/python3.7/site-packages/tensorflow_core/python/framework/indexed_slices.py:433: UserWarning: Converting sparse IndexedSlices to a dense Tensor of unknown shape. This may consume a large amount of memory.\n",
      "  \"Converting sparse IndexedSlices to a dense Tensor of unknown shape. \"\n"
     ]
    },
    {
     "name": "stdout",
     "output_type": "stream",
     "text": [
      "Train on 11738 samples, validate on 5031 samples\n",
      "Epoch 1/100\n",
      "11738/11738 [==============================] - 39s 3ms/step - loss: 114.7221 - acc: 0.6581 - val_loss: 84.9038 - val_acc: 0.6565\n",
      "Epoch 2/100\n",
      "11738/11738 [==============================] - 37s 3ms/step - loss: 65.1571 - acc: 0.6668 - val_loss: 48.5384 - val_acc: 0.7082\n",
      "Epoch 3/100\n",
      "11738/11738 [==============================] - 37s 3ms/step - loss: 37.4017 - acc: 0.7510 - val_loss: 28.0216 - val_acc: 0.7963\n",
      "Epoch 4/100\n",
      "11738/11738 [==============================] - 38s 3ms/step - loss: 21.7248 - acc: 0.8052 - val_loss: 16.3842 - val_acc: 0.8167\n",
      "Epoch 5/100\n",
      "11738/11738 [==============================] - 38s 3ms/step - loss: 12.7577 - acc: 0.8277 - val_loss: 9.6970 - val_acc: 0.8229\n",
      "Epoch 6/100\n",
      "11738/11738 [==============================] - 38s 3ms/step - loss: 7.5866 - acc: 0.8396 - val_loss: 5.8402 - val_acc: 0.8273\n",
      "Epoch 7/100\n",
      "11738/11738 [==============================] - 38s 3ms/step - loss: 4.5947 - acc: 0.8530 - val_loss: 3.6157 - val_acc: 0.8283\n",
      "Epoch 8/100\n",
      "11738/11738 [==============================] - 38s 3ms/step - loss: 2.8654 - acc: 0.8618 - val_loss: 2.3463 - val_acc: 0.8285\n",
      "Epoch 9/100\n",
      "11738/11738 [==============================] - 38s 3ms/step - loss: 1.8664 - acc: 0.8710 - val_loss: 1.6074 - val_acc: 0.8364\n",
      "Epoch 10/100\n",
      "11738/11738 [==============================] - 38s 3ms/step - loss: 1.2889 - acc: 0.8788 - val_loss: 1.2062 - val_acc: 0.8289\n",
      "Epoch 11/100\n",
      "11738/11738 [==============================] - 39s 3ms/step - loss: 0.9526 - acc: 0.8852 - val_loss: 0.9966 - val_acc: 0.8191\n",
      "Epoch 12/100\n",
      "11738/11738 [==============================] - 40s 3ms/step - loss: 0.7522 - acc: 0.8967 - val_loss: 0.8599 - val_acc: 0.8231\n"
     ]
    }
   ],
   "source": [
    "model.compile(loss = 'categorical_crossentropy',\n",
    "              optimizer = 'adam',\n",
    "              metrics = ['acc'])\n",
    "\n",
    "#early stopping set up\n",
    "callbacks = [EarlyStopping(monitor = 'val_acc', patience = 3),\n",
    "             ModelCheckpoint(filepath = 'best_model.h5', monitor= 'val_acc', save_best_only = True)]\n",
    "\n",
    "#training\n",
    "history = model.fit(X_train, y_train, \n",
    "          validation_data = (X_test, y_test),\n",
    "          epochs = EPOCH,\n",
    "          verbose = 1,\n",
    "          callbacks = callbacks,\n",
    "          batch_size = BATCH_SIZE)"
   ]
  },
  {
   "cell_type": "markdown",
   "metadata": {},
   "source": [
    "#### Differrent Test Run on Different Hyperparameter Values"
   ]
  },
  {
   "cell_type": "code",
   "execution_count": 38,
   "metadata": {},
   "outputs": [
    {
     "name": "stdout",
     "output_type": "stream",
     "text": [
      "5031/5031 [==============================] - 1s 295us/step\n",
      "Evaluation result on Test Data : Cost = 0.8431442160832434, accuracy = 81.01769089698792\n"
     ]
    }
   ],
   "source": [
    "#results on original data \n",
    "[test_cost, test_acc] = model.evaluate(X_test, y_test)\n",
    "print(\"Evaluation result on Test Data : Cost = {}, accuracy = {}\".format(test_cost, (test_acc*100)))"
   ]
  },
  {
   "cell_type": "code",
   "execution_count": 54,
   "metadata": {},
   "outputs": [
    {
     "name": "stdout",
     "output_type": "stream",
     "text": [
      "5031/5031 [==============================] - 1s 293us/step\n",
      "Evaluation result on Test Data : Cost = 0.7874462646048104, accuracy = 80.58040142059326\n"
     ]
    }
   ],
   "source": [
    "#on clean and stemmed data\n",
    "[test_cost, test_acc] = model.evaluate(X_test, y_test)\n",
    "print(\"Evaluation result on Test Data : Cost = {}, accuracy = {}\".format(test_cost, (test_acc*100)))"
   ]
  },
  {
   "cell_type": "code",
   "execution_count": 70,
   "metadata": {},
   "outputs": [
    {
     "name": "stdout",
     "output_type": "stream",
     "text": [
      "5031/5031 [==============================] - 1s 292us/step\n",
      "Evaluation result on Test Data : Cost = 0.7897152657822571, accuracy = 81.07731938362122\n"
     ]
    }
   ],
   "source": [
    "#on clean and lemmatized data\n",
    "[test_cost, test_acc] = model.evaluate(X_test, y_test)\n",
    "print(\"Evaluation result on Test Data : Cost = {}, accuracy = {}\".format(test_cost, (test_acc*100)))"
   ]
  },
  {
   "cell_type": "code",
   "execution_count": 121,
   "metadata": {},
   "outputs": [
    {
     "name": "stdout",
     "output_type": "stream",
     "text": [
      "5031/5031 [==============================] - 3s 503us/step\n",
      "Evaluation result on Test Data : Cost = 2.570745726935884, accuracy = 82.1506679058075\n"
     ]
    }
   ],
   "source": [
    "# on clean and lemmatized data - new values of drop out and batch size (batch size 32, 10000,200)\n",
    "[test_cost, test_acc] = model.evaluate(X_test, y_test)\n",
    "print(\"Evaluation result on Test Data : Cost = {}, accuracy = {}\".format(test_cost, (test_acc*100)))"
   ]
  },
  {
   "cell_type": "code",
   "execution_count": 82,
   "metadata": {},
   "outputs": [
    {
     "name": "stdout",
     "output_type": "stream",
     "text": [
      "5031/5031 [==============================] - 2s 328us/step\n",
      "Evaluation result on Test Data : Cost = 0.7444702595253158, accuracy = 80.65990805625916\n"
     ]
    }
   ],
   "source": [
    "#on clean and lemmatized data - new values of drop out and batch size 16\n",
    "[test_cost, test_acc] = model.evaluate(X_test, y_test)\n",
    "print(\"Evaluation result on Test Data : Cost = {}, accuracy = {}\".format(test_cost, (test_acc*100)))"
   ]
  },
  {
   "cell_type": "code",
   "execution_count": 109,
   "metadata": {},
   "outputs": [
    {
     "name": "stdout",
     "output_type": "stream",
     "text": [
      "5031/5031 [==============================] - 3s 525us/step\n",
      "Evaluation result on Test Data : Cost = 0.7741266280039478, accuracy = 81.89226984977722\n"
     ]
    }
   ],
   "source": [
    "#on clean and lemmatized data - new values of drop out and batch size 32, (20000 maxfeature and 300 maxlen)\n",
    "[test_cost, test_acc] = model.evaluate(X_test, y_test)\n",
    "print(\"Evaluation result on Test Data : Cost = {}, accuracy = {}\".format(test_cost, (test_acc*100)))"
   ]
  },
  {
   "cell_type": "code",
   "execution_count": 113,
   "metadata": {},
   "outputs": [
    {
     "name": "stdout",
     "output_type": "stream",
     "text": [
      "5031/5031 [==============================] - 2s 481us/step\n",
      "Evaluation result on Test Data : Cost = 1.7333396131299026, accuracy = 82.28980302810669\n"
     ]
    }
   ],
   "source": [
    "#on clean and lemmatized data - new values of drop out and batch size 64, (20000 maxfeature and 300 maxlen)\n",
    "[test_cost, test_acc] = model.evaluate(X_test, y_test)\n",
    "print(\"Evaluation result on Test Data : Cost = {}, accuracy = {}\".format(test_cost, (test_acc*100)))"
   ]
  },
  {
   "cell_type": "code",
   "execution_count": 117,
   "metadata": {},
   "outputs": [
    {
     "name": "stdout",
     "output_type": "stream",
     "text": [
      "5031/5031 [==============================] - 3s 504us/step\n",
      "Evaluation result on Test Data : Cost = 16.531152650912365, accuracy = 82.28980302810669\n"
     ]
    }
   ],
   "source": [
    "#on clean and lemmatized data - new values of drop out and batch size 128, (20000 maxfeature and 300 maxlen)\n",
    "[test_cost, test_acc] = model.evaluate(X_test, y_test)\n",
    "print(\"Evaluation result on Test Data : Cost = {}, accuracy = {}\".format(test_cost, (test_acc*100)))"
   ]
  },
  {
   "cell_type": "code",
   "execution_count": 125,
   "metadata": {},
   "outputs": [
    {
     "name": "stdout",
     "output_type": "stream",
     "text": [
      "5031/5031 [==============================] - 3s 521us/step\n",
      "Evaluation result on Test Data : Cost = 1.6716193641731976, accuracy = 82.46869444847107\n"
     ]
    }
   ],
   "source": [
    "#on clean and lemmatized data - new values of drop out and batch size 64, dropout = 0.5, (20000 maxfeature and 300 maxlen)\n",
    "[test_cost, test_acc] = model.evaluate(X_test, y_test)\n",
    "print(\"Evaluation result on Test Data : Cost = {}, accuracy = {}\".format(test_cost, (test_acc*100)))"
   ]
  },
  {
   "cell_type": "code",
   "execution_count": 24,
   "metadata": {},
   "outputs": [
    {
     "name": "stdout",
     "output_type": "stream",
     "text": [
      "5031/5031 [==============================] - 2s 488us/step\n",
      "Evaluation result on Test Data : Cost = 3.6696809793509066, accuracy = 82.64758586883545\n"
     ]
    }
   ],
   "source": [
    "#on clean and lemmatized data - new values of drop out and batch size 64, dropout = 0.5, (20000 maxfeature and 300 maxlen)\n",
    "[test_cost, test_acc] = model.evaluate(X_test, y_test)\n",
    "print(\"Evaluation result on Test Data : Cost = {}, accuracy = {}\".format(test_cost, (test_acc*100)))"
   ]
  },
  {
   "cell_type": "code",
   "execution_count": 28,
   "metadata": {},
   "outputs": [
    {
     "name": "stdout",
     "output_type": "stream",
     "text": [
      "5031/5031 [==============================] - 3s 505us/step\n",
      "Evaluation result on Test Data : Cost = 0.8871463607234762, accuracy = 82.50844478607178\n"
     ]
    }
   ],
   "source": [
    "#on clean and lemmatized data - new values of drop out and batch size 32, dropout = 0.5, 0.3 (20000 maxfeature and 300 maxlen)\n",
    "[test_cost, test_acc] = model.evaluate(X_test, y_test)\n",
    "print(\"Evaluation result on Test Data : Cost = {}, accuracy = {}\".format(test_cost, (test_acc*100)))"
   ]
  },
  {
   "cell_type": "code",
   "execution_count": 33,
   "metadata": {},
   "outputs": [
    {
     "name": "stdout",
     "output_type": "stream",
     "text": [
      "5031/5031 [==============================] - 2s 477us/step\n",
      "Evaluation result on Test Data : Cost = 0.8606761703195498, accuracy = 82.46869444847107\n"
     ]
    }
   ],
   "source": [
    "#on clean and lemmatized data - new values of drop out and batch size 34, dropout = 0.5, 0.3, 0.4 (20000 maxfeature and 300 maxlen)\n",
    "[test_cost, test_acc] = model.evaluate(X_test, y_test)\n",
    "print(\"Evaluation result on Test Data : Cost = {}, accuracy = {}\".format(test_cost, (test_acc*100)))"
   ]
  },
  {
   "cell_type": "code",
   "execution_count": 47,
   "metadata": {},
   "outputs": [],
   "source": [
    "# predict probabilities for test set\n",
    "yhat_probs = model.predict(X_test, verbose=0)\n",
    "# predict crisp classes for test set\n",
    "yhat_classes = np.argmax(yhat_probs,axis=1)"
   ]
  },
  {
   "cell_type": "code",
   "execution_count": 57,
   "metadata": {},
   "outputs": [
    {
     "name": "stdout",
     "output_type": "stream",
     "text": [
      "Precision: 0.851237\n",
      "Recall: 0.885256\n",
      "F1 score: 0.867913\n"
     ]
    }
   ],
   "source": [
    "# # accuracy: (tp + tn) / (p + n)\n",
    "# accuracy = accuracy_score(y_test[:,1], yhat_classes)\n",
    "# print('Accuracy: %f' % accuracy)\n",
    "# precision tp / (tp + fp)\n",
    "precision = precision_score(y_test[:,1], yhat_classes)\n",
    "print('Precision: %f' % precision)\n",
    "# recall: tp / (tp + fn)\n",
    "recall = recall_score(y_test[:,1], yhat_classes)\n",
    "print('Recall: %f' % recall)\n",
    "# f1: 2 tp / (2 tp + fp + fn)\n",
    "f1 = f1_score(y_test[:,1], yhat_classes)\n",
    "print('F1 score: %f' % f1)"
   ]
  },
  {
   "cell_type": "code",
   "execution_count": null,
   "metadata": {},
   "outputs": [],
   "source": []
  },
  {
   "cell_type": "code",
   "execution_count": 60,
   "metadata": {},
   "outputs": [],
   "source": [
    "# train_acc = history.history['acc']\n",
    "# test_acc = history.history['val_acc']\n",
    "# df = pd.DataFrame()\n",
    "# df['train_acc'] = train_acc\n",
    "# df['test_acc'] = test_acc\n",
    "# df.to_csv('hybrid1.csv')"
   ]
  },
  {
   "cell_type": "code",
   "execution_count": null,
   "metadata": {},
   "outputs": [],
   "source": []
  },
  {
   "cell_type": "code",
   "execution_count": 34,
   "metadata": {},
   "outputs": [
    {
     "data": {
      "text/plain": [
       "Text(0.5, 1.0, 'Accuracy Curves')"
      ]
     },
     "execution_count": 34,
     "metadata": {},
     "output_type": "execute_result"
    },
    {
     "data": {
      "image/png": "[encoded data removed]",
      "text/plain": [
       "<Figure size 576x432 with 1 Axes>"
      ]
     },
     "metadata": {
      "needs_background": "light"
     },
     "output_type": "display_data"
    },
    {
     "data": {
      "image/png": "[encoded data removed]",
      "text/plain": [
       "<Figure size 576x432 with 1 Axes>"
      ]
     },
     "metadata": {
      "needs_background": "light"
     },
     "output_type": "display_data"
    }
   ],
   "source": [
    "#Plot cost\n",
    "plt.figure(figsize=[8,6])\n",
    "plt.plot(history.history['loss'],'r',linewidth=3.0)\n",
    "plt.plot(history.history['val_loss'],'b',linewidth=3.0)\n",
    "plt.legend(['Training cost', 'Validation cost'],fontsize=18)\n",
    "plt.xlabel('Epochs ',fontsize=16)\n",
    "plt.ylabel('Loss',fontsize=16)\n",
    "plt.title('Loss Curves',fontsize=16)\n",
    " \n",
    "#Plot accuracy\n",
    "plt.figure(figsize=[8,6])\n",
    "plt.plot(history.history['acc'],'r',linewidth=3.0)\n",
    "plt.plot(history.history['val_acc'],'b',linewidth=3.0)\n",
    "plt.legend(['Training Accuracy', 'Validation Accuracy'],fontsize=18)\n",
    "plt.xlabel('Epochs ',fontsize=16)\n",
    "plt.ylabel('Accuracy',fontsize=16)\n",
    "plt.title('Accuracy Curves',fontsize=16)"
   ]
  },
  {
   "cell_type": "code",
   "execution_count": null,
   "metadata": {},
   "outputs": [],
   "source": []
  },
  {
   "cell_type": "code",
   "execution_count": 63,
   "metadata": {},
   "outputs": [],
   "source": [
    "#All 3 model results in the same csv for comparison plot\n",
    "df = pd.read_csv('model_compared.csv')"
   ]
  },
  {
   "cell_type": "code",
   "execution_count": 64,
   "metadata": {},
   "outputs": [
    {
     "data": {
      "text/html": [
       "<div>\n",
       "<style scoped>\n",
       "    .dataframe tbody tr th:only-of-type {\n",
       "        vertical-align: middle;\n",
       "    }\n",
       "\n",
       "    .dataframe tbody tr th {\n",
       "        vertical-align: top;\n",
       "    }\n",
       "\n",
       "    .dataframe thead th {\n",
       "        text-align: right;\n",
       "    }\n",
       "</style>\n",
       "<table border=\"1\" class=\"dataframe\">\n",
       "  <thead>\n",
       "    <tr style=\"text-align: right;\">\n",
       "      <th></th>\n",
       "      <th>epoch</th>\n",
       "      <th>rnn_train_acc</th>\n",
       "      <th>rnn_val_acc</th>\n",
       "      <th>hybrid1_train_acc</th>\n",
       "      <th>hybrid1_val_acc</th>\n",
       "      <th>hybrid2_train_acc</th>\n",
       "      <th>hybrid2_val_acc</th>\n",
       "    </tr>\n",
       "  </thead>\n",
       "  <tbody>\n",
       "    <tr>\n",
       "      <th>0</th>\n",
       "      <td>1</td>\n",
       "      <td>0.698296</td>\n",
       "      <td>0.785775</td>\n",
       "      <td>0.658119</td>\n",
       "      <td>0.656530</td>\n",
       "      <td>0.672950</td>\n",
       "      <td>0.785349</td>\n",
       "    </tr>\n",
       "    <tr>\n",
       "      <th>1</th>\n",
       "      <td>2</td>\n",
       "      <td>0.791374</td>\n",
       "      <td>0.810903</td>\n",
       "      <td>0.666809</td>\n",
       "      <td>0.708209</td>\n",
       "      <td>0.786688</td>\n",
       "      <td>0.781942</td>\n",
       "    </tr>\n",
       "    <tr>\n",
       "      <th>2</th>\n",
       "      <td>3</td>\n",
       "      <td>0.816507</td>\n",
       "      <td>0.801959</td>\n",
       "      <td>0.750980</td>\n",
       "      <td>0.796263</td>\n",
       "      <td>0.801278</td>\n",
       "      <td>0.814310</td>\n",
       "    </tr>\n",
       "    <tr>\n",
       "      <th>3</th>\n",
       "      <td>4</td>\n",
       "      <td>0.833972</td>\n",
       "      <td>0.810903</td>\n",
       "      <td>0.805163</td>\n",
       "      <td>0.816736</td>\n",
       "      <td>0.816720</td>\n",
       "      <td>0.804940</td>\n",
       "    </tr>\n",
       "    <tr>\n",
       "      <th>4</th>\n",
       "      <td>5</td>\n",
       "      <td>0.844089</td>\n",
       "      <td>0.821124</td>\n",
       "      <td>0.827654</td>\n",
       "      <td>0.822898</td>\n",
       "      <td>0.822151</td>\n",
       "      <td>0.813884</td>\n",
       "    </tr>\n",
       "    <tr>\n",
       "      <th>5</th>\n",
       "      <td>6</td>\n",
       "      <td>0.852077</td>\n",
       "      <td>0.829216</td>\n",
       "      <td>0.839581</td>\n",
       "      <td>0.827271</td>\n",
       "      <td>0.829712</td>\n",
       "      <td>0.816865</td>\n",
       "    </tr>\n",
       "    <tr>\n",
       "      <th>6</th>\n",
       "      <td>7</td>\n",
       "      <td>0.854952</td>\n",
       "      <td>0.836457</td>\n",
       "      <td>0.853041</td>\n",
       "      <td>0.828265</td>\n",
       "      <td>0.840043</td>\n",
       "      <td>0.823680</td>\n",
       "    </tr>\n",
       "    <tr>\n",
       "      <th>7</th>\n",
       "      <td>8</td>\n",
       "      <td>0.860383</td>\n",
       "      <td>0.823680</td>\n",
       "      <td>0.861816</td>\n",
       "      <td>0.828464</td>\n",
       "      <td>0.837274</td>\n",
       "      <td>0.828791</td>\n",
       "    </tr>\n",
       "    <tr>\n",
       "      <th>8</th>\n",
       "      <td>9</td>\n",
       "      <td>0.868158</td>\n",
       "      <td>0.828790</td>\n",
       "      <td>0.871017</td>\n",
       "      <td>0.836414</td>\n",
       "      <td>0.834931</td>\n",
       "      <td>0.828791</td>\n",
       "    </tr>\n",
       "    <tr>\n",
       "      <th>9</th>\n",
       "      <td>10</td>\n",
       "      <td>0.870288</td>\n",
       "      <td>0.831346</td>\n",
       "      <td>0.878770</td>\n",
       "      <td>0.828861</td>\n",
       "      <td>0.856762</td>\n",
       "      <td>0.829642</td>\n",
       "    </tr>\n",
       "  </tbody>\n",
       "</table>\n",
       "</div>"
      ],
      "text/plain": [
       "   epoch  rnn_train_acc  rnn_val_acc  hybrid1_train_acc  hybrid1_val_acc  \\\n",
       "0      1       0.698296     0.785775           0.658119         0.656530   \n",
       "1      2       0.791374     0.810903           0.666809         0.708209   \n",
       "2      3       0.816507     0.801959           0.750980         0.796263   \n",
       "3      4       0.833972     0.810903           0.805163         0.816736   \n",
       "4      5       0.844089     0.821124           0.827654         0.822898   \n",
       "5      6       0.852077     0.829216           0.839581         0.827271   \n",
       "6      7       0.854952     0.836457           0.853041         0.828265   \n",
       "7      8       0.860383     0.823680           0.861816         0.828464   \n",
       "8      9       0.868158     0.828790           0.871017         0.836414   \n",
       "9     10       0.870288     0.831346           0.878770         0.828861   \n",
       "\n",
       "   hybrid2_train_acc  hybrid2_val_acc  \n",
       "0           0.672950         0.785349  \n",
       "1           0.786688         0.781942  \n",
       "2           0.801278         0.814310  \n",
       "3           0.816720         0.804940  \n",
       "4           0.822151         0.813884  \n",
       "5           0.829712         0.816865  \n",
       "6           0.840043         0.823680  \n",
       "7           0.837274         0.828791  \n",
       "8           0.834931         0.828791  \n",
       "9           0.856762         0.829642  "
      ]
     },
     "execution_count": 64,
     "metadata": {},
     "output_type": "execute_result"
    }
   ],
   "source": [
    "df"
   ]
  },
  {
   "cell_type": "code",
   "execution_count": 69,
   "metadata": {},
   "outputs": [
    {
     "data": {
      "text/plain": [
       "Text(0.5, 1.0, 'Training Accuracy from Different Models')"
      ]
     },
     "execution_count": 69,
     "metadata": {},
     "output_type": "execute_result"
    },
    {
     "data": {
      "image/png": "[encoded data removed]",
      "text/plain": [
       "<Figure size 576x432 with 1 Axes>"
      ]
     },
     "metadata": {
      "needs_background": "light"
     },
     "output_type": "display_data"
    }
   ],
   "source": [
    "#Plot accuracy\n",
    "plt.figure(figsize=[8,6])\n",
    "plt.plot(df['rnn_train_acc'],'r',linewidth=3.0)\n",
    "plt.plot(df['hybrid1_train_acc'],'b',linewidth=3.0)\n",
    "plt.plot(df['hybrid2_train_acc'],'g',linewidth=3.0)\n",
    "plt.legend(['RNN', 'Hybrid Model: CNN + LSTM', 'Bi-Directional LSTM'],fontsize=18)\n",
    "plt.xlabel('Epochs ',fontsize=16)\n",
    "plt.ylabel('Accuracy',fontsize=16)\n",
    "plt.title('Training Accuracy from Different Models',fontsize=16)"
   ]
  },
  {
   "cell_type": "code",
   "execution_count": 70,
   "metadata": {},
   "outputs": [
    {
     "data": {
      "text/plain": [
       "Text(0.5, 1.0, 'Validation Accuracy from Different Models')"
      ]
     },
     "execution_count": 70,
     "metadata": {},
     "output_type": "execute_result"
    },
    {
     "data": {
      "image/png": "[encoded data removed]",
      "text/plain": [
       "<Figure size 576x432 with 1 Axes>"
      ]
     },
     "metadata": {
      "needs_background": "light"
     },
     "output_type": "display_data"
    }
   ],
   "source": [
    "#Plot accuracy\n",
    "plt.figure(figsize=[8,6])\n",
    "plt.plot(df['rnn_val_acc'],'r',linewidth=3.0)\n",
    "plt.plot(df['hybrid1_val_acc'],'b',linewidth=3.0)\n",
    "plt.plot(df['hybrid2_val_acc'],'g',linewidth=3.0)\n",
    "plt.legend(['RNN', 'Hybrid Model: CNN+LSTM', 'Bi-Directional LSTM'],fontsize=18)\n",
    "plt.xlabel('Epochs ',fontsize=16)\n",
    "plt.ylabel('Accuracy',fontsize=16)\n",
    "plt.title('Validation Accuracy from Different Models',fontsize=16)"
   ]
  },
  {
   "cell_type": "code",
   "execution_count": null,
   "metadata": {},
   "outputs": [],
   "source": []
  },
  {
   "cell_type": "code",
   "execution_count": null,
   "metadata": {},
   "outputs": [],
   "source": []
  }
 ],
 "metadata": {
  "kernelspec": {
   "display_name": "Python 3",
   "language": "python",
   "name": "python3"
  },
  "language_info": {
   "codemirror_mode": {
    "name": "ipython",
    "version": 3
   },
   "file_extension": ".py",
   "mimetype": "text/x-python",
   "name": "python",
   "nbconvert_exporter": "python",
   "pygments_lexer": "ipython3",
   "version": "3.7.0"
  }
 },
 "nbformat": 4,
 "nbformat_minor": 4
}

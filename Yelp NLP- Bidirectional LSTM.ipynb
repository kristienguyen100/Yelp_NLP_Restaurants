{
 "cells": [
  {
   "cell_type": "code",
   "execution_count": 121,
   "metadata": {},
   "outputs": [
    {
     "data": {
      "text/html": [
       "<div>\n",
       "<style scoped>\n",
       "    .dataframe tbody tr th:only-of-type {\n",
       "        vertical-align: middle;\n",
       "    }\n",
       "\n",
       "    .dataframe tbody tr th {\n",
       "        vertical-align: top;\n",
       "    }\n",
       "\n",
       "    .dataframe thead th {\n",
       "        text-align: right;\n",
       "    }\n",
       "</style>\n",
       "<table border=\"1\" class=\"dataframe\">\n",
       "  <thead>\n",
       "    <tr style=\"text-align: right;\">\n",
       "      <th></th>\n",
       "      <th>business_id</th>\n",
       "      <th>name</th>\n",
       "      <th>city</th>\n",
       "      <th>state</th>\n",
       "      <th>stars</th>\n",
       "      <th>review_count</th>\n",
       "      <th>categories</th>\n",
       "      <th>review_id</th>\n",
       "      <th>review_stars</th>\n",
       "      <th>useful</th>\n",
       "      <th>funny</th>\n",
       "      <th>cool</th>\n",
       "      <th>text</th>\n",
       "      <th>date</th>\n",
       "      <th>polarity</th>\n",
       "    </tr>\n",
       "  </thead>\n",
       "  <tbody>\n",
       "    <tr>\n",
       "      <th>0</th>\n",
       "      <td>bPBZEDuHbE-I7bxUWIYMhQ</td>\n",
       "      <td>Oishii Sushi</td>\n",
       "      <td>Calgary</td>\n",
       "      <td>AB</td>\n",
       "      <td>3.0</td>\n",
       "      <td>91</td>\n",
       "      <td>Japanese, Restaurants, Sushi Bars</td>\n",
       "      <td>rFfxQEA9wCmRYyqDSv1ecQ</td>\n",
       "      <td>4</td>\n",
       "      <td>0</td>\n",
       "      <td>1</td>\n",
       "      <td>0</td>\n",
       "      <td>Went here for all you can eat sushi dinner! Bo...</td>\n",
       "      <td>2017-11-11 19:16:19</td>\n",
       "      <td>0</td>\n",
       "    </tr>\n",
       "    <tr>\n",
       "      <th>1</th>\n",
       "      <td>bPBZEDuHbE-I7bxUWIYMhQ</td>\n",
       "      <td>Oishii Sushi</td>\n",
       "      <td>Calgary</td>\n",
       "      <td>AB</td>\n",
       "      <td>3.0</td>\n",
       "      <td>91</td>\n",
       "      <td>Japanese, Restaurants, Sushi Bars</td>\n",
       "      <td>MccdpC7TvFCTKO5Pdx37PA</td>\n",
       "      <td>1</td>\n",
       "      <td>1</td>\n",
       "      <td>1</td>\n",
       "      <td>0</td>\n",
       "      <td>The service was okay when it was present. The ...</td>\n",
       "      <td>2016-02-27 8:03:55</td>\n",
       "      <td>0</td>\n",
       "    </tr>\n",
       "    <tr>\n",
       "      <th>2</th>\n",
       "      <td>bPBZEDuHbE-I7bxUWIYMhQ</td>\n",
       "      <td>Oishii Sushi</td>\n",
       "      <td>Calgary</td>\n",
       "      <td>AB</td>\n",
       "      <td>3.0</td>\n",
       "      <td>91</td>\n",
       "      <td>Japanese, Restaurants, Sushi Bars</td>\n",
       "      <td>OS_uA1Dm7iV4NLGcgtZ9qw</td>\n",
       "      <td>5</td>\n",
       "      <td>0</td>\n",
       "      <td>0</td>\n",
       "      <td>1</td>\n",
       "      <td>Went here on the weekend for lunch and food/se...</td>\n",
       "      <td>2015-11-09 23:03:17</td>\n",
       "      <td>1</td>\n",
       "    </tr>\n",
       "    <tr>\n",
       "      <th>3</th>\n",
       "      <td>bPBZEDuHbE-I7bxUWIYMhQ</td>\n",
       "      <td>Oishii Sushi</td>\n",
       "      <td>Calgary</td>\n",
       "      <td>AB</td>\n",
       "      <td>3.0</td>\n",
       "      <td>91</td>\n",
       "      <td>Japanese, Restaurants, Sushi Bars</td>\n",
       "      <td>q37oYWTdZmXC8Z26nTR87Q</td>\n",
       "      <td>5</td>\n",
       "      <td>0</td>\n",
       "      <td>0</td>\n",
       "      <td>0</td>\n",
       "      <td>I've eaten here twice now and I'm really impre...</td>\n",
       "      <td>2017-07-12 16:52:23</td>\n",
       "      <td>1</td>\n",
       "    </tr>\n",
       "    <tr>\n",
       "      <th>4</th>\n",
       "      <td>bPBZEDuHbE-I7bxUWIYMhQ</td>\n",
       "      <td>Oishii Sushi</td>\n",
       "      <td>Calgary</td>\n",
       "      <td>AB</td>\n",
       "      <td>3.0</td>\n",
       "      <td>91</td>\n",
       "      <td>Japanese, Restaurants, Sushi Bars</td>\n",
       "      <td>5w3lP3O8ZUO9kOTfQFi8pQ</td>\n",
       "      <td>1</td>\n",
       "      <td>1</td>\n",
       "      <td>1</td>\n",
       "      <td>1</td>\n",
       "      <td>Not good for groups.\\n We came here tonight fo...</td>\n",
       "      <td>2016-04-04 5:57:54</td>\n",
       "      <td>0</td>\n",
       "    </tr>\n",
       "  </tbody>\n",
       "</table>\n",
       "</div>"
      ],
      "text/plain": [
       "              business_id          name     city state  stars  review_count  \\\n",
       "0  bPBZEDuHbE-I7bxUWIYMhQ  Oishii Sushi  Calgary    AB    3.0            91   \n",
       "1  bPBZEDuHbE-I7bxUWIYMhQ  Oishii Sushi  Calgary    AB    3.0            91   \n",
       "2  bPBZEDuHbE-I7bxUWIYMhQ  Oishii Sushi  Calgary    AB    3.0            91   \n",
       "3  bPBZEDuHbE-I7bxUWIYMhQ  Oishii Sushi  Calgary    AB    3.0            91   \n",
       "4  bPBZEDuHbE-I7bxUWIYMhQ  Oishii Sushi  Calgary    AB    3.0            91   \n",
       "\n",
       "                          categories               review_id  review_stars  \\\n",
       "0  Japanese, Restaurants, Sushi Bars  rFfxQEA9wCmRYyqDSv1ecQ             4   \n",
       "1  Japanese, Restaurants, Sushi Bars  MccdpC7TvFCTKO5Pdx37PA             1   \n",
       "2  Japanese, Restaurants, Sushi Bars  OS_uA1Dm7iV4NLGcgtZ9qw             5   \n",
       "3  Japanese, Restaurants, Sushi Bars  q37oYWTdZmXC8Z26nTR87Q             5   \n",
       "4  Japanese, Restaurants, Sushi Bars  5w3lP3O8ZUO9kOTfQFi8pQ             1   \n",
       "\n",
       "   useful  funny  cool                                               text  \\\n",
       "0       0      1     0  Went here for all you can eat sushi dinner! Bo...   \n",
       "1       1      1     0  The service was okay when it was present. The ...   \n",
       "2       0      0     1  Went here on the weekend for lunch and food/se...   \n",
       "3       0      0     0  I've eaten here twice now and I'm really impre...   \n",
       "4       1      1     1  Not good for groups.\\n We came here tonight fo...   \n",
       "\n",
       "                  date  polarity  \n",
       "0  2017-11-11 19:16:19         0  \n",
       "1   2016-02-27 8:03:55         0  \n",
       "2  2015-11-09 23:03:17         1  \n",
       "3  2017-07-12 16:52:23         1  \n",
       "4   2016-04-04 5:57:54         0  "
      ]
     },
     "execution_count": 121,
     "metadata": {},
     "output_type": "execute_result"
    }
   ],
   "source": [
    "import pandas as pd\n",
    "\n",
    "yelp_df = pd.read_csv('yelp_review_with_labels.csv')\n",
    "yelp_df.head()"
   ]
  },
  {
   "cell_type": "code",
   "execution_count": 122,
   "metadata": {},
   "outputs": [
    {
     "data": {
      "text/plain": [
       "\"went here for all you can eat sushi dinner! bottomline: best all you can eat sushi in calgary! it costs $26 per person for sushi and sashimi and $32 for the deluxe menu which includes oysters and tataki. \\n\\nwe went a little overboard with ordering rolls (to the point that the waiter asked if we were sure we can finish haha) and then regretted it shortly after! there is a charge for unfinished food so it was a little stressful haha \\n\\nwe ordered the mango dragon roll (prawn tempura and avacado with mango), philadelphia roll, spicy salmon roll, beef udon, miso soup, salmon and tuna sashimi, salmon rose and prawn tempura. out of these my favourites were the spicy salmon and the mango dragon roll. i didn't love the tempura personally because it was a bit soggy. didn't have room for dessert after all this food so can't comment on that haha\""
      ]
     },
     "execution_count": 122,
     "metadata": {},
     "output_type": "execute_result"
    }
   ],
   "source": [
    "#lowercase conversion  \n",
    "yelp_df ['text'] = [i.lower() for i in yelp_df ['text']]\n",
    "yelp_df ['text'][0]"
   ]
  },
  {
   "cell_type": "code",
   "execution_count": 123,
   "metadata": {},
   "outputs": [],
   "source": [
    "import string\n",
    "import re\n",
    "def clean_text(text):\n",
    "    # remove numbers\n",
    "    text_nonum = re.sub(r'\\d+', '', text)\n",
    "    # remove punctuations and convert characters to lower case\n",
    "    text_nopunct = \"\".join([char for char in text_nonum if char not in string.punctuation]) \n",
    "    # substitute multiple whitespace with single whitespace\n",
    "    # remove leading and trailing whitespaces\n",
    "    text_no_doublespace = re.sub('\\s+', ' ', text_nopunct).strip()\n",
    "    return text_no_doublespace\n",
    "\n",
    "yelp_df[\"text\"]=yelp_df['text'].map(lambda text: clean_text(text))"
   ]
  },
  {
   "cell_type": "code",
   "execution_count": 124,
   "metadata": {},
   "outputs": [
    {
     "name": "stderr",
     "output_type": "stream",
     "text": [
      "[nltk_data] Downloading package wordnet to\n",
      "[nltk_data]     C:\\Users\\krist\\AppData\\Roaming\\nltk_data...\n",
      "[nltk_data]   Package wordnet is already up-to-date!\n"
     ]
    }
   ],
   "source": [
    "import nltk\n",
    "nltk.download('wordnet')\n",
    "from textblob import Word\n",
    "from nltk.stem import WordNetLemmatizer \n",
    "  \n",
    "lemmatizer = WordNetLemmatizer()\n",
    "\n",
    "# Lemmatize final review format\n",
    "yelp_df['lemmatized_text'] = yelp_df['text'].apply(lambda x: \" \".join([Word(word).lemmatize() for word in x.split()]))"
   ]
  },
  {
   "cell_type": "code",
   "execution_count": 125,
   "metadata": {},
   "outputs": [
    {
     "data": {
      "text/plain": [
       "0    went here for all you can eat sushi dinner bot...\n",
       "1    the service was okay when it was present the m...\n",
       "2    went here on the weekend for lunch and foodser...\n",
       "3    ive eaten here twice now and im really impress...\n",
       "4    not good for groups we came here tonight for m...\n",
       "Name: text, dtype: object"
      ]
     },
     "execution_count": 125,
     "metadata": {},
     "output_type": "execute_result"
    }
   ],
   "source": [
    "from nltk.stem.porter import PorterStemmer\n",
    "\n",
    "stemmer = PorterStemmer()\n",
    "def stem_words(text):\n",
    "    return \" \".join([stemmer.stem(word) for word in text.split()])\n",
    "\n",
    "yelp_df[\"text_stemmed\"] = yelp_df[\"text\"].apply(lambda text: stem_words(text))\n",
    "yelp_df['text'].head()"
   ]
  },
  {
   "cell_type": "code",
   "execution_count": 126,
   "metadata": {},
   "outputs": [
    {
     "name": "stderr",
     "output_type": "stream",
     "text": [
      "[nltk_data] Downloading package stopwords to\n",
      "[nltk_data]     C:\\Users\\krist\\AppData\\Roaming\\nltk_data...\n",
      "[nltk_data]   Package stopwords is already up-to-date!\n"
     ]
    },
    {
     "data": {
      "text/plain": [
       "0    went eat sushi dinner bottomline best eat sush...\n",
       "1    service okay present menu particularly eat sus...\n",
       "2    went weekend lunch foodservice fantastic never...\n",
       "3    ive eaten twice im really impressed get lot pr...\n",
       "4    good groups came tonight birthday dinner group...\n",
       "Name: text, dtype: object"
      ]
     },
     "execution_count": 126,
     "metadata": {},
     "output_type": "execute_result"
    }
   ],
   "source": [
    "from nltk.corpus import stopwords\n",
    "nltk.download('stopwords')\n",
    "STOPWORDS = set(stopwords.words('english'))\n",
    "def remove_stopwords(text):\n",
    "    \"\"\"custom function to remove the stopwords\"\"\"\n",
    "    return \" \".join([word for word in str(text).split() if word not in STOPWORDS])\n",
    "\n",
    "yelp_df[\"text\"] = yelp_df[\"text\"].apply(lambda text: remove_stopwords(text))\n",
    "yelp_df['text'].head()"
   ]
  },
  {
   "cell_type": "code",
   "execution_count": 170,
   "metadata": {},
   "outputs": [],
   "source": [
    "import tensorflow as tf\n",
    "from tensorflow import keras\n",
    "from tensorflow.keras.preprocessing.text import Tokenizer\n",
    "from tensorflow.keras.preprocessing.sequence import pad_sequences\n",
    "from tensorflow.python.keras.preprocessing import sequence\n",
    "from tensorflow.python.keras import layers\n",
    "from tensorflow.python.keras.models import Sequential\n",
    "from tensorflow.python.keras.layers import Dense, Embedding, Dropout, Flatten, LSTM, Activation, Bidirectional"
   ]
  },
  {
   "cell_type": "code",
   "execution_count": 128,
   "metadata": {},
   "outputs": [
    {
     "data": {
      "text/plain": [
       "0    went eat sushi dinner bottomline best eat sush...\n",
       "1    service okay present menu particularly eat sus...\n",
       "2    went weekend lunch foodservice fantastic never...\n",
       "3    ive eaten twice im really impressed get lot pr...\n",
       "4    good groups came tonight birthday dinner group...\n",
       "Name: text, dtype: object"
      ]
     },
     "execution_count": 128,
     "metadata": {},
     "output_type": "execute_result"
    }
   ],
   "source": [
    "X=yelp_df[\"text\"]\n",
    "X.head(5)"
   ]
  },
  {
   "cell_type": "code",
   "execution_count": 129,
   "metadata": {},
   "outputs": [
    {
     "data": {
      "text/plain": [
       "0    0\n",
       "1    0\n",
       "2    1\n",
       "3    1\n",
       "4    0\n",
       "Name: polarity, dtype: int64"
      ]
     },
     "execution_count": 129,
     "metadata": {},
     "output_type": "execute_result"
    }
   ],
   "source": [
    "y=yelp_df[\"polarity\"]\n",
    "y.head(5)"
   ]
  },
  {
   "cell_type": "code",
   "execution_count": 130,
   "metadata": {},
   "outputs": [],
   "source": [
    "from sklearn.model_selection import train_test_split\n",
    "X_train,X_test,y_train,y_test=train_test_split(X,y,test_size=0.3,random_state=1)"
   ]
  },
  {
   "cell_type": "code",
   "execution_count": 131,
   "metadata": {},
   "outputs": [],
   "source": [
    "max_features=1000\n",
    "# Tokenize the sentences\n",
    "tokenizer = Tokenizer(num_words=max_features)\n",
    "tokenizer.fit_on_texts(list(X_train)+list(X_test))\n",
    "tokenizer = Tokenizer(num_words=max_features)\n",
    "tokenizer.fit_on_texts(list(X_train)+list(X_test))\n",
    "X_train = tokenizer.texts_to_sequences(X_train)\n",
    "X_test = tokenizer.texts_to_sequences(X_test)"
   ]
  },
  {
   "cell_type": "code",
   "execution_count": 132,
   "metadata": {},
   "outputs": [],
   "source": [
    "maxlen = 200\n",
    "X_train=pad_sequences(X_train,maxlen = maxlen) #training data contains a list of list of numbers \n",
    "X_test=pad_sequences(X_test,maxlen = maxlen) #each list has the same numbers "
   ]
  },
  {
   "cell_type": "code",
   "execution_count": 133,
   "metadata": {},
   "outputs": [
    {
     "name": "stdout",
     "output_type": "stream",
     "text": [
      "X_train (11738, 200)\n",
      "y_train (11738,)\n"
     ]
    }
   ],
   "source": [
    "print(\"X_train\",X_train.shape)\n",
    "print(\"y_train\",y_train.shape)"
   ]
  },
  {
   "cell_type": "code",
   "execution_count": 134,
   "metadata": {},
   "outputs": [],
   "source": [
    "vocabulary_size = 11738"
   ]
  },
  {
   "cell_type": "code",
   "execution_count": 160,
   "metadata": {},
   "outputs": [
    {
     "name": "stdout",
     "output_type": "stream",
     "text": [
      "Train on 9390 samples, validate on 2348 samples\n",
      "Epoch 1/10\n",
      "9390/9390 [==============================] - 117s 12ms/sample - loss: 0.6289 - acc: 0.6729 - val_loss: 0.5567 - val_acc: 0.7853\n",
      "Epoch 2/10\n",
      "9390/9390 [==============================] - 160s 17ms/sample - loss: 0.5476 - acc: 0.7867 - val_loss: 0.5278 - val_acc: 0.7819\n",
      "Epoch 3/10\n",
      "9390/9390 [==============================] - 160s 17ms/sample - loss: 0.5179 - acc: 0.8013 - val_loss: 0.4977 - val_acc: 0.8143\n",
      "Epoch 4/10\n",
      "9390/9390 [==============================] - 143s 15ms/sample - loss: 0.4941 - acc: 0.8167 - val_loss: 0.4853 - val_acc: 0.8049\n",
      "Epoch 5/10\n",
      "9390/9390 [==============================] - 143s 15ms/sample - loss: 0.4721 - acc: 0.8222 - val_loss: 0.4706 - val_acc: 0.8139\n",
      "Epoch 6/10\n",
      "9390/9390 [==============================] - 143s 15ms/sample - loss: 0.4630 - acc: 0.8297 - val_loss: 0.4547 - val_acc: 0.8169\n",
      "Epoch 7/10\n",
      "9390/9390 [==============================] - 133s 14ms/sample - loss: 0.4434 - acc: 0.8400 - val_loss: 0.4489 - val_acc: 0.8237\n",
      "Epoch 8/10\n",
      "9390/9390 [==============================] - 144s 15ms/sample - loss: 0.4346 - acc: 0.8373 - val_loss: 0.4371 - val_acc: 0.8288\n",
      "Epoch 9/10\n",
      "9390/9390 [==============================] - 142s 15ms/sample - loss: 0.4248 - acc: 0.8349 - val_loss: 0.4328 - val_acc: 0.8288\n",
      "Epoch 10/10\n",
      "9390/9390 [==============================] - 143s 15ms/sample - loss: 0.4100 - acc: 0.8568 - val_loss: 0.4249 - val_acc: 0.8296\n"
     ]
    }
   ],
   "source": [
    "model = Sequential()\n",
    "model.add(Embedding(vocabulary_size, 100, input_length = 200))\n",
    "model.add(Dropout(0.5))\n",
    "model.add(Bidirectional(LSTM(64,return_sequences=True)))\n",
    "model.add(Bidirectional(LSTM(32)))\n",
    "model.add(Dense(10, activation='softmax'))\n",
    "model.add(Dropout(0.5))\n",
    "model.add(Dense(1, activation='sigmoid'))\n",
    "\n",
    "model.compile(loss = 'binary_crossentropy', optimizer = 'adam', metrics = ['accuracy'])\n",
    "\n",
    "history = model.fit(X_train, y_train,\n",
    "                    epochs = 10,\n",
    "                    batch_size = 64,\n",
    "                    validation_split=0.2)"
   ]
  },
  {
   "cell_type": "code",
   "execution_count": 171,
   "metadata": {},
   "outputs": [
    {
     "name": "stdout",
     "output_type": "stream",
     "text": [
      "Model: \"sequential_18\"\n",
      "_________________________________________________________________\n",
      "Layer (type)                 Output Shape              Param #   \n",
      "=================================================================\n",
      "embedding_18 (Embedding)     (None, 200, 100)          1173800   \n",
      "_________________________________________________________________\n",
      "dropout_36 (Dropout)         (None, 200, 100)          0         \n",
      "_________________________________________________________________\n",
      "bidirectional_7 (Bidirection (None, 200, 128)          84480     \n",
      "_________________________________________________________________\n",
      "bidirectional_8 (Bidirection (None, 64)                41216     \n",
      "_________________________________________________________________\n",
      "dense_32 (Dense)             (None, 10)                650       \n",
      "_________________________________________________________________\n",
      "dropout_37 (Dropout)         (None, 10)                0         \n",
      "_________________________________________________________________\n",
      "dense_33 (Dense)             (None, 1)                 11        \n",
      "=================================================================\n",
      "Total params: 1,300,157\n",
      "Trainable params: 1,300,157\n",
      "Non-trainable params: 0\n",
      "_________________________________________________________________\n"
     ]
    }
   ],
   "source": [
    "model.summary()"
   ]
  },
  {
   "cell_type": "code",
   "execution_count": 161,
   "metadata": {},
   "outputs": [
    {
     "name": "stdout",
     "output_type": "stream",
     "text": [
      "11738/11738 - 43s - loss: 0.3555 - acc: 0.8875\n"
     ]
    }
   ],
   "source": [
    "train_loss,train_acc = model.evaluate(X_train, y_train, verbose = 2)"
   ]
  },
  {
   "cell_type": "code",
   "execution_count": 162,
   "metadata": {},
   "outputs": [
    {
     "name": "stdout",
     "output_type": "stream",
     "text": [
      "5031/5031 - 17s - loss: 0.4348 - acc: 0.8223\n",
      "\n",
      "Test accuracy: 0.82230175\n"
     ]
    }
   ],
   "source": [
    "test_loss, test_acc = model.evaluate(X_test, y_test, verbose = 2)\n",
    "\n",
    "print('\\nTest accuracy:', test_acc)"
   ]
  },
  {
   "cell_type": "code",
   "execution_count": 163,
   "metadata": {},
   "outputs": [
    {
     "data": {
      "image/png": "[encoded data removed]",
      "text/plain": [
       "<Figure size 432x288 with 1 Axes>"
      ]
     },
     "metadata": {
      "needs_background": "light"
     },
     "output_type": "display_data"
    }
   ],
   "source": [
    "import matplotlib.pyplot as plt\n",
    "\n",
    "plt.plot(history.history['acc'])\n",
    "plt.plot(history.history['val_acc'])\n",
    "plt.title('Accuracy Curves')\n",
    "plt.ylabel('accuracy')\n",
    "plt.xlabel('epoch')\n",
    "plt.legend(['train', 'validation'], loc='upper left')\n",
    "plt.show()"
   ]
  },
  {
   "cell_type": "code",
   "execution_count": 164,
   "metadata": {},
   "outputs": [
    {
     "data": {
      "image/png": "[encoded data removed]",
      "text/plain": [
       "<Figure size 432x288 with 1 Axes>"
      ]
     },
     "metadata": {
      "needs_background": "light"
     },
     "output_type": "display_data"
    }
   ],
   "source": [
    "import matplotlib.pyplot as plt\n",
    "\n",
    "plt.plot(history.history['loss'])\n",
    "plt.plot(history.history['val_loss'])\n",
    "plt.title('Loss Curve')\n",
    "plt.ylabel('accuracy')\n",
    "plt.xlabel('epoch')\n",
    "plt.legend(['train', 'validation'], loc='upper left')\n",
    "plt.show()"
   ]
  },
  {
   "cell_type": "code",
   "execution_count": 165,
   "metadata": {},
   "outputs": [],
   "source": [
    "yhat_classes = model.predict_classes(X_test, verbose=0)"
   ]
  },
  {
   "cell_type": "code",
   "execution_count": 166,
   "metadata": {},
   "outputs": [
    {
     "name": "stdout",
     "output_type": "stream",
     "text": [
      "0.8539523949456362\n"
     ]
    }
   ],
   "source": [
    "from sklearn.metrics import precision_score\n",
    "precision = precision_score(y_test, yhat_classes)\n",
    "print(precision)"
   ]
  },
  {
   "cell_type": "code",
   "execution_count": 169,
   "metadata": {},
   "outputs": [
    {
     "name": "stdout",
     "output_type": "stream",
     "text": [
      "0.8798062367544657\n"
     ]
    }
   ],
   "source": [
    "from sklearn.metrics import recall_score\n",
    "recall = recall_score(y_test, yhat_classes)\n",
    "print(recall)"
   ]
  }
 ],
 "metadata": {
  "kernelspec": {
   "display_name": "Python 3",
   "language": "python",
   "name": "python3"
  },
  "language_info": {
   "codemirror_mode": {
    "name": "ipython",
    "version": 3
   },
   "file_extension": ".py",
   "mimetype": "text/x-python",
   "name": "python",
   "nbconvert_exporter": "python",
   "pygments_lexer": "ipython3",
   "version": "3.7.6"
  }
 },
 "nbformat": 4,
 "nbformat_minor": 4
}
